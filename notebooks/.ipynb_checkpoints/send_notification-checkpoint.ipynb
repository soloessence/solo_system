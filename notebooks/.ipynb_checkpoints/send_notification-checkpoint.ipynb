{
 "cells": [
  {
   "cell_type": "code",
   "execution_count": 1,
   "metadata": {},
   "outputs": [
    {
     "name": "stdout",
     "output_type": "stream",
     "text": [
      "微信公众号通知完毕\n",
      "ios-Bark通知完毕\n"
     ]
    }
   ],
   "source": [
    "import requests \n",
    "\n",
    "\n",
    "\n",
    "## 发消息用这个API http://sc.ftqq.com/?c=code\n",
    "\n",
    "msg = \"通知小仙女\" \n",
    "\n",
    "#send = requests.get('https://sc.ftqq.com/SCU177871Tb10b2e91985847ee16e64dc646cb803160c43b37904a8.send?text=买000001.HK~')\n",
    "old_key = 'SCU177871Tb10b2e91985847ee16e64dc646cb803160c43b37904a8' #old key \n",
    "old_send = requests.get('https://sc.ftqq.com/{}.send?text={}'.format(old_key, msg))\n",
    "#https://sctapi.ftqq.com/SCT50629TVlydxCvN7iz6g11mXcKgQ22g.send?title=messagetitle\n",
    "print(\"微信公众号通知完毕\")\n",
    "\n",
    "\n",
    "key = 'SCT50629TVlydxCvN7iz6g11mXcKgQ22g'\n",
    "send = requests.get('https://sctapi.ftqq.com/{}.send?title={}'.format(key, msg))    \n",
    "print(\"ios-Bark通知完毕\")\n",
    "\n"
   ]
  }
 ],
 "metadata": {
  "hide_input": false,
  "kernelspec": {
   "display_name": "Python 3.9",
   "language": "python",
   "name": "python3.9"
  },
  "language_info": {
   "codemirror_mode": {
    "name": "ipython",
    "version": 3
   },
   "file_extension": ".py",
   "mimetype": "text/x-python",
   "name": "python",
   "nbconvert_exporter": "python",
   "pygments_lexer": "ipython3",
   "version": "3.9.0"
  }
 },
 "nbformat": 4,
 "nbformat_minor": 4
}

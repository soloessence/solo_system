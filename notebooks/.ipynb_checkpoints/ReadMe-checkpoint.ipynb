{
 "cells": [
  {
   "cell_type": "markdown",
   "metadata": {},
   "source": [
    "### 列出中间可能遇到的坑\n",
    "\n",
    "- 1. plot Python3.9 和最新的Matplotlib会遇到错 ImportError Cannot import name 'warnings' from 'matplotlib.dates \n",
    "\n",
    "    - 参考: https://stackoverflow.com/questions/63471764/importerror-cannot-import-name-warnings-from-matplotlib-dates\n",
    "    - 方案：https://github.com/mementum/backtrader/pull/418/commits/61f0878a4e3616b62d3ad035acafd0ff25da1dec\n",
    "\n",
    "- 2. Jupyter 中居然不能用多线程!!!, 只能设maxcpus =1 \n",
    "    - 方案：cerebro = bt.Cerebro(maxcpus=1,optreturn=True,runonce=True) 或者在pycharm里运行多线程相关Code"
   ]
  }
 ],
 "metadata": {
  "hide_input": false,
  "kernelspec": {
   "display_name": "Python 3.9",
   "language": "python",
   "name": "python3.9"
  },
  "language_info": {
   "codemirror_mode": {
    "name": "ipython",
    "version": 3
   },
   "file_extension": ".py",
   "mimetype": "text/x-python",
   "name": "python",
   "nbconvert_exporter": "python",
   "pygments_lexer": "ipython3",
   "version": "3.9.0"
  }
 },
 "nbformat": 4,
 "nbformat_minor": 4
}
